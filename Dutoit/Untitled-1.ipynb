{
 "cells": [
  {
   "cell_type": "markdown",
   "id": "99b25f55",
   "metadata": {},
   "source": [
    "# Monte Carlo Modeling with PyMC3\n",
    "\n",
    "This notebook demonstrates how to build and use a Monte Carlo model using the `pymc` library. The model is applied to weather data to predict a target variable, and the results are visualized."
   ]
  },
  {
   "cell_type": "markdown",
   "id": "defd5d04",
   "metadata": {},
   "source": [
    "## Define the MonteCarloModel Class\n",
    "\n",
    "Define a class `MonteCarloModel` that initializes with features (X) and target variable (y). It includes methods for fitting the model using `pymc` and making predictions."
   ]
  },
  {
   "cell_type": "code",
   "execution_count": null,
   "id": "0914b2fd",
   "metadata": {},
   "outputs": [],
   "source": [
    "import pymc as pm\n",
    "import numpy as np\n",
    "import matplotlib.pyplot as plt\n",
    "\n",
    "class MonteCarloModel():\n",
    "    def __init__(self, X, y):\n",
    "        self.X = X\n",
    "        self.y = y\n",
    "        self.model = None\n",
    "        self.trace = None\n",
    "\n",
    "    def fit(self):\n",
    "        with pm.Model() as model:\n",
    "            shift = pm.Normal(\"shift\", mu=0, sigma=1, shape=self.X.shape[0])\n",
    "            scale = pm.HalfNormal(\"scale\", sigma=1, shape=self.X.shape[0])\n",
    "            bias = pm.Normal(\"bias\", mu=0, sigma=1)  # Single bias term\n",
    "            sigma = pm.HalfNormal(\"sigma\", sigma=1)  # Single sigma term\n",
    "            mu = pm.Deterministic(\"mu\", (self.X.T - shift) * scale + bias)\n",
    "            y_obs = pm.Normal(\"y_obs\", mu=mu, sigma=sigma, observed=self.y)\n",
    "            trace = pm.sample(1000, tune=1000)\n",
    "        self.model = model\n",
    "        self.trace = trace\n",
    "\n",
    "    def predict(self, X):\n",
    "        with self.model:\n",
    "            ppc = pm.sample_posterior_predictive(self.trace, var_names=[\"mu\"], samples=1000)\n",
    "            predictions = ppc.posterior[\"mu\"].mean(axis=(0,1))  # Average over samples and features\n",
    "        return predictions"
   ]
  },
  {
   "cell_type": "markdown",
   "id": "cbfa8dca",
   "metadata": {},
   "source": [
    "## Fit the Monte Carlo Model\n",
    "\n",
    "Instantiate the `MonteCarloModel` with the prepared features and target variable. Fit the model using the `fit` method, which defines the model structure, priors, and performs MCMC sampling."
   ]
  },
  {
   "cell_type": "code",
   "execution_count": null,
   "id": "badf05c4",
   "metadata": {},
   "outputs": [],
   "source": [
    "# Sample Data (Replace with your actual data loading and preprocessing)\n",
    "# Example data:\n",
    "num_features = 6\n",
    "num_samples = 200\n",
    "features = np.random.rand(num_features, num_samples)\n",
    "y = np.random.rand(num_samples)\n",
    "\n",
    "# Split data into training and testing\n",
    "train_size = int(0.7 * num_samples)\n",
    "train_features = features[:, :train_size]\n",
    "test_features = features[:, train_size:]\n",
    "train_y = y[:train_size]\n",
    "test_y = y[train_size:]\n",
    "\n",
    "mc_model = MonteCarloModel(train_features, train_y)\n",
    "print(\"Fitting\")\n",
    "mc_model.fit()"
   ]
  },
  {
   "cell_type": "markdown",
   "id": "d699656a",
   "metadata": {},
   "source": [
    "## Make Predictions with the Monte Carlo Model\n",
    "\n",
    "Use the trained `MonteCarloModel` to make predictions on both the training and test sets. Visualize the predictions against the actual values using `matplotlib`."
   ]
  },
  {
   "cell_type": "code",
   "execution_count": null,
   "id": "ca29d6f7",
   "metadata": {},
   "outputs": [],
   "source": [
    "# Make predictions on training and test sets\n",
    "train_pred = mc_model.predict(train_features)\n",
    "test_pred = mc_model.predict(test_features)\n",
    "\n",
    "# Plot training predictions\n",
    "plt.figure(figsize=(12, 6))\n",
    "plt.title(\"Training Predictions\")\n",
    "plt.plot(train_pred, label=\"Predicted\")\n",
    "plt.plot(train_y, label=\"Actual\")\n",
    "plt.legend()\n",
    "plt.show()\n",
    "\n",
    "# Plot test predictions\n",
    "plt.figure(figsize=(12, 6))\n",
    "plt.title(\"Test Predictions\")\n",
    "plt.plot(test_pred, label=\"Predicted\")\n",
    "plt.plot(test_y, label=\"Actual\")\n",
    "plt.legend()\n",
    "plt.show()"
   ]
  }
 ],
 "metadata": {
  "language_info": {
   "name": "python"
  }
 },
 "nbformat": 4,
 "nbformat_minor": 5
}
