{
 "cells": [
  {
   "cell_type": "code",
   "execution_count": 1,
   "metadata": {},
   "outputs": [],
   "source": [
    "import numpy as np\n",
    "import pandas as pd"
   ]
  },
  {
   "cell_type": "code",
   "execution_count": 2,
   "metadata": {},
   "outputs": [],
   "source": [
    "Prec = pd.read_csv('SudanPrecipitation.csv', index_col = 0).drop(\"Current Climatology Trend (1991-2020)\",axis = 1).dropna()\n",
    "MaxTemp = pd.read_csv('SudanAverageMaxTemp.csv', index_col = 0).drop(\"Current Climatology Trend (1991-2020)\",axis = 1).dropna()\n",
    "MeanTemp = pd.read_csv('SudanAverageMeanTemp.csv', index_col = 0).drop(\"Current Climatology Trend (1991-2020)\",axis = 1).dropna()\n",
    "MinTemp = pd.read_csv('SudanAverageMinTemp.csv', index_col = 0).drop(\"Current Climatology Trend (1991-2020)\",axis = 1).dropna()"
   ]
  },
  {
   "cell_type": "code",
   "execution_count": 3,
   "metadata": {},
   "outputs": [],
   "source": [
    "def clean_weather(df, label):\n",
    "    Years = np.linspace(1951,2020,70).astype(int)\n",
    "    dataTot = []\n",
    "    #Making total data\n",
    "    for col in df.columns:\n",
    "        for data in df[col]:\n",
    "            dataTot.append(data)\n",
    "\n",
    "    #making date time\n",
    "    start = 1951\n",
    "    datesCol = []\n",
    "    while start < 2021:\n",
    "        for month in range(12):\n",
    "            month += 1\n",
    "            datesCol.append(str(start) + \"-\" + str(month))\n",
    "        start += 1\n",
    "\n",
    "\n",
    "    Finalcols = { label: dataTot}\n",
    "    Final = pd.DataFrame(Finalcols, index = pd.to_datetime(datesCol))\n",
    "    return Final"
   ]
  },
  {
   "cell_type": "code",
   "execution_count": 4,
   "metadata": {},
   "outputs": [
    {
     "name": "stdout",
     "output_type": "stream",
     "text": [
      "      A    B    C    D\n",
      "K0   A0   B0   C0   D0\n",
      "K1   A1   B1  NaN  NaN\n",
      "K2   A2   B2   C2   D2\n",
      "K3  NaN  NaN   C3   D3\n"
     ]
    }
   ],
   "source": [
    "import pandas as pd\n",
    "\n",
    "# Sample DataFrames with a common index\n",
    "df1 = pd.DataFrame({'A': ['A0', 'A1', 'A2'],\n",
    "                    'B': ['B0', 'B1', 'B2']},\n",
    "                   index=['K0', 'K1', 'K2'])\n",
    "\n",
    "df2 = pd.DataFrame({'C': ['C0', 'C2', 'C3'],\n",
    "                    'D': ['D0', 'D2', 'D3']},\n",
    "                   index=['K0', 'K2', 'K3'])\n",
    "\n",
    "# Merge df1 and df2 on index\n",
    "result = pd.merge(df1, df2, left_index=True, right_index=True, how='outer')\n",
    "\n",
    "print(result)"
   ]
  },
  {
   "cell_type": "code",
   "execution_count": 5,
   "metadata": {},
   "outputs": [],
   "source": [
    "PrecFinal = clean_weather(Prec, \"Average Precipitation\")\n",
    "MaxTempFinal = clean_weather(MaxTemp, 'Average Max Surface Air Temp')\n",
    "MeanTempFinal = clean_weather(MeanTemp, 'Average Mean Surface Air Temp')\n",
    "MinTempFinal = clean_weather(MinTemp, 'Average Min Surface Air Temp')\n"
   ]
  },
  {
   "cell_type": "code",
   "execution_count": 6,
   "metadata": {},
   "outputs": [],
   "source": [
    "Weather_final = PrecFinal.merge(MaxTempFinal, left_index = True, right_index = True)\n",
    "Weather_final = Weather_final.merge(MeanTempFinal, left_index = True, right_index = True)\n",
    "Weather_final = Weather_final.merge(MinTempFinal, left_index = True, right_index = True)"
   ]
  },
  {
   "cell_type": "code",
   "execution_count": 7,
   "metadata": {},
   "outputs": [
    {
     "data": {
      "text/html": [
       "<div>\n",
       "<style scoped>\n",
       "    .dataframe tbody tr th:only-of-type {\n",
       "        vertical-align: middle;\n",
       "    }\n",
       "\n",
       "    .dataframe tbody tr th {\n",
       "        vertical-align: top;\n",
       "    }\n",
       "\n",
       "    .dataframe thead th {\n",
       "        text-align: right;\n",
       "    }\n",
       "</style>\n",
       "<table border=\"1\" class=\"dataframe\">\n",
       "  <thead>\n",
       "    <tr style=\"text-align: right;\">\n",
       "      <th></th>\n",
       "      <th>Average Precipitation</th>\n",
       "      <th>Average Max Surface Air Temp</th>\n",
       "      <th>Average Mean Surface Air Temp</th>\n",
       "      <th>Average Min Surface Air Temp</th>\n",
       "    </tr>\n",
       "  </thead>\n",
       "  <tbody>\n",
       "    <tr>\n",
       "      <th>1951-01-01</th>\n",
       "      <td>0.48</td>\n",
       "      <td>28.15</td>\n",
       "      <td>20.09</td>\n",
       "      <td>12.92</td>\n",
       "    </tr>\n",
       "    <tr>\n",
       "      <th>1951-02-01</th>\n",
       "      <td>0.23</td>\n",
       "      <td>28.47</td>\n",
       "      <td>20.40</td>\n",
       "      <td>12.87</td>\n",
       "    </tr>\n",
       "    <tr>\n",
       "      <th>1951-03-01</th>\n",
       "      <td>1.16</td>\n",
       "      <td>33.11</td>\n",
       "      <td>25.10</td>\n",
       "      <td>17.32</td>\n",
       "    </tr>\n",
       "    <tr>\n",
       "      <th>1951-04-01</th>\n",
       "      <td>0.58</td>\n",
       "      <td>34.63</td>\n",
       "      <td>26.42</td>\n",
       "      <td>18.00</td>\n",
       "    </tr>\n",
       "    <tr>\n",
       "      <th>1951-05-01</th>\n",
       "      <td>40.49</td>\n",
       "      <td>37.02</td>\n",
       "      <td>29.87</td>\n",
       "      <td>23.07</td>\n",
       "    </tr>\n",
       "    <tr>\n",
       "      <th>...</th>\n",
       "      <td>...</td>\n",
       "      <td>...</td>\n",
       "      <td>...</td>\n",
       "      <td>...</td>\n",
       "    </tr>\n",
       "    <tr>\n",
       "      <th>2020-08-01</th>\n",
       "      <td>98.04</td>\n",
       "      <td>33.77</td>\n",
       "      <td>28.99</td>\n",
       "      <td>24.30</td>\n",
       "    </tr>\n",
       "    <tr>\n",
       "      <th>2020-09-01</th>\n",
       "      <td>23.76</td>\n",
       "      <td>36.42</td>\n",
       "      <td>30.60</td>\n",
       "      <td>24.87</td>\n",
       "    </tr>\n",
       "    <tr>\n",
       "      <th>2020-10-01</th>\n",
       "      <td>5.70</td>\n",
       "      <td>35.92</td>\n",
       "      <td>29.32</td>\n",
       "      <td>22.82</td>\n",
       "    </tr>\n",
       "    <tr>\n",
       "      <th>2020-11-01</th>\n",
       "      <td>0.82</td>\n",
       "      <td>30.75</td>\n",
       "      <td>24.14</td>\n",
       "      <td>17.96</td>\n",
       "    </tr>\n",
       "    <tr>\n",
       "      <th>2020-12-01</th>\n",
       "      <td>0.81</td>\n",
       "      <td>30.35</td>\n",
       "      <td>22.99</td>\n",
       "      <td>16.22</td>\n",
       "    </tr>\n",
       "  </tbody>\n",
       "</table>\n",
       "<p>840 rows × 4 columns</p>\n",
       "</div>"
      ],
      "text/plain": [
       "            Average Precipitation  Average Max Surface Air Temp  \\\n",
       "1951-01-01                   0.48                         28.15   \n",
       "1951-02-01                   0.23                         28.47   \n",
       "1951-03-01                   1.16                         33.11   \n",
       "1951-04-01                   0.58                         34.63   \n",
       "1951-05-01                  40.49                         37.02   \n",
       "...                           ...                           ...   \n",
       "2020-08-01                  98.04                         33.77   \n",
       "2020-09-01                  23.76                         36.42   \n",
       "2020-10-01                   5.70                         35.92   \n",
       "2020-11-01                   0.82                         30.75   \n",
       "2020-12-01                   0.81                         30.35   \n",
       "\n",
       "            Average Mean Surface Air Temp  Average Min Surface Air Temp  \n",
       "1951-01-01                          20.09                         12.92  \n",
       "1951-02-01                          20.40                         12.87  \n",
       "1951-03-01                          25.10                         17.32  \n",
       "1951-04-01                          26.42                         18.00  \n",
       "1951-05-01                          29.87                         23.07  \n",
       "...                                   ...                           ...  \n",
       "2020-08-01                          28.99                         24.30  \n",
       "2020-09-01                          30.60                         24.87  \n",
       "2020-10-01                          29.32                         22.82  \n",
       "2020-11-01                          24.14                         17.96  \n",
       "2020-12-01                          22.99                         16.22  \n",
       "\n",
       "[840 rows x 4 columns]"
      ]
     },
     "metadata": {},
     "output_type": "display_data"
    }
   ],
   "source": [
    "display(Weather_final)"
   ]
  },
  {
   "cell_type": "code",
   "execution_count": 10,
   "metadata": {},
   "outputs": [
    {
     "name": "stdout",
     "output_type": "stream",
     "text": [
      "840\n"
     ]
    }
   ],
   "source": [
    "print(sum(Weather_final[\"Average Max Surface Air Temp\"] > Weather_final[\"Average Min Surface Air Temp\"]))"
   ]
  },
  {
   "cell_type": "code",
   "execution_count": 17,
   "metadata": {},
   "outputs": [
    {
     "name": "stdout",
     "output_type": "stream",
     "text": [
      "0\n",
      "0\n",
      "0\n",
      "0\n"
     ]
    }
   ],
   "source": [
    "print(sum(Weather_final[\"Average Max Surface Air Temp\"].isna()))\n",
    "print(sum(Weather_final[\"Average Mean Surface Air Temp\"].isna()))\n",
    "print(sum(Weather_final[\"Average Min Surface Air Temp\"].isna()))\n",
    "print(sum(Weather_final[\"Average Precipitation\"].isna()))"
   ]
  },
  {
   "cell_type": "code",
   "execution_count": 19,
   "metadata": {},
   "outputs": [
    {
     "name": "stdout",
     "output_type": "stream",
     "text": [
      "40.04\n",
      "32.71\n",
      "26.06\n",
      "176.29\n"
     ]
    }
   ],
   "source": [
    "print(max(Weather_final[\"Average Max Surface Air Temp\"]))\n",
    "print(max(Weather_final[\"Average Mean Surface Air Temp\"]))\n",
    "print(max(Weather_final[\"Average Min Surface Air Temp\"]))\n",
    "print(max(Weather_final[\"Average Precipitation\"]))"
   ]
  },
  {
   "cell_type": "code",
   "execution_count": 20,
   "metadata": {},
   "outputs": [
    {
     "name": "stdout",
     "output_type": "stream",
     "text": [
      "21.95\n",
      "15.31\n",
      "9.11\n",
      "0.0\n"
     ]
    }
   ],
   "source": [
    "print(min(Weather_final[\"Average Max Surface Air Temp\"]))\n",
    "print(min(Weather_final[\"Average Mean Surface Air Temp\"]))\n",
    "print(min(Weather_final[\"Average Min Surface Air Temp\"]))\n",
    "print(min(Weather_final[\"Average Precipitation\"]))"
   ]
  },
  {
   "cell_type": "code",
   "execution_count": 8,
   "metadata": {},
   "outputs": [],
   "source": [
    "Weather_final.to_csv(path_or_buf = \"WeatherAllFinal.csv\")\n"
   ]
  }
 ],
 "metadata": {
  "kernelspec": {
   "display_name": "Python 3",
   "language": "python",
   "name": "python3"
  },
  "language_info": {
   "codemirror_mode": {
    "name": "ipython",
    "version": 3
   },
   "file_extension": ".py",
   "mimetype": "text/x-python",
   "name": "python",
   "nbconvert_exporter": "python",
   "pygments_lexer": "ipython3",
   "version": "3.10.15"
  }
 },
 "nbformat": 4,
 "nbformat_minor": 2
}
