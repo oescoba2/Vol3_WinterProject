{
 "cells": [
  {
   "cell_type": "code",
   "execution_count": 2,
   "metadata": {},
   "outputs": [],
   "source": [
    "import pandas as pd"
   ]
  },
  {
   "cell_type": "markdown",
   "metadata": {},
   "source": [
    "### EDA"
   ]
  },
  {
   "cell_type": "code",
   "execution_count": 4,
   "metadata": {},
   "outputs": [
    {
     "name": "stdout",
     "output_type": "stream",
     "text": [
      "          STATION        DATE  DEWP  FRSHTT   GUST   MAX   MIN  MXSPD  PRCP  \\\n",
      "8410  98222099999  2025-01-01  75.2       0  999.9  89.2  73.8    3.9  0.00   \n",
      "8411  98222099999  2025-01-02  75.4   10010  999.9  86.5  75.2    5.8  0.12   \n",
      "8412  98222099999  2025-01-03  72.3   10000  999.9  85.8  71.6    3.9  0.31   \n",
      "8413  98222099999  2025-01-04  68.7   10000  999.9  78.8  68.7    3.9  0.00   \n",
      "8414  98222099999  2025-01-05  68.2       0  999.9  83.5  72.0    3.9  0.00   \n",
      "\n",
      "         SLP   SNDP    STP  TEMP  VISIB  WDSP  \n",
      "8410  1010.0  999.9  999.9  80.8    9.3   2.2  \n",
      "8411  1009.8  999.9  999.9  79.6    9.1   2.2  \n",
      "8412  1011.1  999.9  999.9  74.2    6.5   2.2  \n",
      "8413  1011.2  999.9  999.9  74.7    9.1   1.9  \n",
      "8414  1011.8  999.9  999.9  77.5    9.3   1.5  \n"
     ]
    }
   ],
   "source": [
    "ilocos_sur_weather = pd.read_csv('../Data/3968119.csv')\n",
    "\n",
    "print(ilocos_sur_weather.tail())"
   ]
  },
  {
   "cell_type": "code",
   "execution_count": null,
   "metadata": {},
   "outputs": [],
   "source": []
  }
 ],
 "metadata": {
  "kernelspec": {
   "display_name": "Python 3",
   "language": "python",
   "name": "python3"
  },
  "language_info": {
   "codemirror_mode": {
    "name": "ipython",
    "version": 3
   },
   "file_extension": ".py",
   "mimetype": "text/x-python",
   "name": "python",
   "nbconvert_exporter": "python",
   "pygments_lexer": "ipython3",
   "version": "3.10.12"
  }
 },
 "nbformat": 4,
 "nbformat_minor": 2
}
